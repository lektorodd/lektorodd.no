{
 "cells": [
  {
   "cell_type": "raw",
   "metadata": {
    "vscode": {
     "languageId": "raw"
    }
   },
   "source": [
    "---\n",
    "title: \"V25 // S1\"\n",
    "format:\n",
    "    html: default\n",
    "    typst:\n",
    "        output-file: S1-V25\n",
    "format-links:\n",
    "  - html\n",
    "  - format: typst\n",
    "    text: PDF\n",
    "from: markdown+emoji\n",
    "author: \"Torodd F. Ottestad\"\n",
    "date: \"05-22-2025\"\n",
    "categories: [S1, V25, eksamen]\n",
    "---"
   ]
  },
  {
   "attachments": {},
   "cell_type": "markdown",
   "metadata": {},
   "source": [
    "# Løysingsforslag S1 - våren 2025 \n",
    "\n",
    "Her er eit forslag til løysing av våreksamen i S1 2025. I del 2 er oppgåvene stort sett Python brukt som hjelpemiddel.\n",
    "\n",
    "Eg kan ikkje lova at løysinga er feilfri... 😊 Gje meg gjerne ein lyd i kommentarfeltet eller [her](/about.qmd) om du ser feil :mag: \n",
    "\n",
    "Sist oppdatert: 22.05.2025\n",
    "\n",
    "---\n",
    "\n",
    "Eksamenssettet finn du hos UDIR: [Finn eksamensoppgaver](https://sokeresultat.udir.no/eksamensoppgaver.html)\n",
    "\n",
    "Løysinga som pdf [her](S1-V25.pdf)"
   ]
  },
  {
   "attachments": {},
   "cell_type": "markdown",
   "metadata": {},
   "source": [
    "\n",
    "# Del 1 - utan hjelpemiddel\n",
    "\n",
    "## Oppgåve 1\n",
    "\n",
    "Deriver funksjonen\n",
    "\n",
    "$$ \\begin{align*} \n",
    "f(x) &= e^{-2x} + \\frac{1}{5} x^5 - 2\\pi \\\\ \\ \\\\\n",
    "f'(x) &= -2 e^{-2x} + x^4\n",
    "\\end{align*}$$\n",
    "\n",
    "(kjerneregel, polynomderivasjon og konstantregel)\n"
   ]
  },
  {
   "attachments": {},
   "cell_type": "markdown",
   "metadata": {},
   "source": [
    "::: {.content-visible when-format=\"typst\"}\n",
    "\n",
    "```{=typst}\n",
    "#pagebreak()\n",
    "```\n",
    "\n",
    ":::\n",
    "\n",
    "# Del 2\n",
    "\n",
    "## Oppgåve 1\n",
    "\n",
    "Tabellen nedanfor viser timelønna til ei yrkesgruppe.\n",
    "\n",
    "| År | Timeløn |\n",
    "|---|---|\n",
    "|2008 |272,55|\n",
    "|2010 |285,50|\n",
    "|2013 |307,30|\n",
    "|2015 |314,00|\n",
    "|2019 |327,60|\n",
    "|2022 |340,10|\n"
   ]
  },
  {
   "cell_type": "code",
   "execution_count": null,
   "metadata": {},
   "outputs": [],
   "source": []
  }
 ],
 "metadata": {
  "kernelspec": {
   "display_name": "Python 3",
   "language": "python",
   "name": "python3"
  },
  "language_info": {
   "codemirror_mode": {
    "name": "ipython",
    "version": 3
   },
   "file_extension": ".py",
   "mimetype": "text/x-python",
   "name": "python",
   "nbconvert_exporter": "python",
   "pygments_lexer": "ipython3",
   "version": "3.8.16"
  },
  "orig_nbformat": 4,
  "vscode": {
   "interpreter": {
    "hash": "369f2c481f4da34e4445cda3fffd2e751bd1c4d706f27375911949ba6bb62e1c"
   }
  }
 },
 "nbformat": 4,
 "nbformat_minor": 2
}
